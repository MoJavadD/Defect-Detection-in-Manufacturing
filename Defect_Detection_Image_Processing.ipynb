{
  "nbformat": 4,
  "nbformat_minor": 0,
  "metadata": {
    "colab": {
      "provenance": []
    },
    "kernelspec": {
      "name": "python3",
      "display_name": "Python 3"
    },
    "language_info": {
      "name": "python"
    }
  },
  "cells": [
    {
      "cell_type": "code",
      "source": [
        "import os\n",
        "import cv2\n",
        "import numpy as np\n",
        "import tensorflow as tf\n",
        "from sklearn.model_selection import train_test_split\n",
        "from sklearn.metrics import accuracy_score, classification_report, confusion_matrix\n",
        "from tensorflow.keras.models import Sequential\n",
        "from tensorflow.keras.layers import Conv2D, MaxPooling2D, Flatten, Dense, Dropout\n",
        "from tensorflow.keras.optimizers import Adam\n",
        "from tensorflow.keras.losses import SparseCategoricalCrossentropy\n",
        "from tensorflow.keras.callbacks import EarlyStopping"
      ],
      "metadata": {
        "id": "Rcm91Iarfw4r"
      },
      "execution_count": null,
      "outputs": []
    },
    {
      "cell_type": "code",
      "source": [
        "# Function to load and preprocess images\n",
        "def load_images(folder_path):\n",
        "    images = []\n",
        "    labels = []\n",
        "\n",
        "    for filename in os.listdir(folder_path):\n",
        "        img = cv2.imread(os.path.join(folder_path, filename), cv2.IMREAD_GRAYSCALE)\n",
        "        if img is not None:\n",
        "            # Flatten the image to a 1D array\n",
        "            images.append(img.flatten())\n",
        "\n",
        "            # Assign labels based on classes\n",
        "            if \"non-defected\" in filename:\n",
        "                labels.append(0)  # Class 1: non-defected\n",
        "            elif \"breakage\" in filename:\n",
        "                labels.append(1)  # Class 2: defected (breakage)\n",
        "            elif \"bubbles\" in filename:\n",
        "                labels.append(2)  # Class 3: defected (presence of bubbles)\n",
        "            elif \"discolorization\" in filename:\n",
        "                labels.append(3)  # Class 4: defected (discolorization)\n",
        "\n",
        "    return np.array(images), np.array(labels)"
      ],
      "metadata": {
        "id": "onYl54ehfw2P"
      },
      "execution_count": null,
      "outputs": []
    },
    {
      "cell_type": "code",
      "source": [
        "# Load and preprocess images\n",
        "dataset_folder = 'ImgsData'\n",
        "images, labels = load_images(dataset_folder)"
      ],
      "metadata": {
        "id": "SiaOFtAXfwyV"
      },
      "execution_count": null,
      "outputs": []
    },
    {
      "cell_type": "code",
      "source": [
        "# Split the data into training and testing sets\n",
        "X_train, X_test, y_train, y_test = train_test_split(images, labels, test_size=0.2, random_state=42)\n"
      ],
      "metadata": {
        "id": "IzyuU6jXfwvn"
      },
      "execution_count": null,
      "outputs": []
    },
    {
      "cell_type": "code",
      "source": [
        "#CNN\n",
        "\n",
        "# Define hyperparameters\n",
        "input_shape = (64, 64, 1)  # Adjust based on your image size and channels\n",
        "num_classes = 4\n",
        "learning_rate = 0.001\n",
        "batch_size = 32\n",
        "epochs = 50\n",
        "\n",
        "# Build the CNN model\n",
        "model = Sequential()\n",
        "\n",
        "model.add(Conv2D(32, kernel_size=(3, 3), activation='relu', input_shape=input_shape))\n",
        "model.add(MaxPooling2D(pool_size=(2, 2)))\n",
        "model.add(Conv2D(64, kernel_size=(3, 3), activation='relu'))\n",
        "model.add(MaxPooling2D(pool_size=(2, 2)))\n",
        "model.add(Flatten())\n",
        "model.add(Dense(128, activation='relu'))\n",
        "model.add(Dropout(0.5))\n",
        "model.add(Dense(num_classes, activation='softmax'))\n",
        "\n",
        "# Compile the model\n",
        "model.compile(\n",
        "    optimizer=Adam(learning_rate),\n",
        "    loss=SparseCategoricalCrossentropy(),\n",
        "    metrics=['accuracy']\n",
        ")\n",
        "\n",
        "# Example: Use EarlyStopping to prevent overfitting\n",
        "early_stopping = EarlyStopping(monitor='val_loss', patience=5, restore_best_weights=True)\n",
        "\n",
        "# Train the model (assuming you have training data X_train, y_train and validation data X_val, y_val)\n",
        "history = model.fit(\n",
        "    X_train, y_train,\n",
        "    epochs=epochs,\n",
        "    batch_size=batch_size,\n",
        "    validation_data=(X_val, y_val),\n",
        "    callbacks=[early_stopping]\n",
        ")\n",
        "\n",
        "# Evaluate the model on the test set\n",
        "test_loss, test_accuracy = model.evaluate(X_test, y_test)\n",
        "print(f'Test Loss: {test_loss:.4f}, Test Accuracy: {test_accuracy:.4f}')\n"
      ],
      "metadata": {
        "id": "a3yO0O7afwpw"
      },
      "execution_count": null,
      "outputs": []
    },
    {
      "cell_type": "code",
      "source": [
        "\n",
        "y_pred = np.argmax(model.predict(X_test), axis=1)\n",
        "\n",
        "# Calculate overall accuracy\n",
        "accuracy = accuracy_score(y_test, y_pred)\n",
        "print(f'Overall Accuracy: {accuracy:.4f}')\n",
        "\n",
        "# Calculate precision, recall, and F1 score for each class\n",
        "class_names = ['Class 0', 'Class 1', 'Class 2', 'Class 3']\n",
        "classification_rep = classification_report(y_test, y_pred, target_names=class_names)\n",
        "print('Classification Report:\\n', classification_rep)\n",
        "\n",
        "# Confusion matrix\n",
        "conf_matrix = confusion_matrix(y_test, y_pred)\n",
        "print('Confusion Matrix:\\n', conf_matrix)\n"
      ],
      "metadata": {
        "id": "8gvsdkItoLhN"
      },
      "execution_count": null,
      "outputs": []
    },
    {
      "cell_type": "code",
      "source": [
        "# Function to perform defect detection on a new image\n",
        "def detect_defect(image_path):\n",
        "    img = cv2.imread(image_path, cv2.IMREAD_GRAYSCALE)\n",
        "    flattened_img = img.flatten().reshape(1, -1)\n",
        "    predictions = model.predict(flattened_img)\n",
        "\n",
        "    class_labels = {\n",
        "        0: \"Non-defected\",\n",
        "        1: \"Defected with Breakage\",\n",
        "        2: \"Defected with Presence of Bubbles\",\n",
        "        3: \"Defected with Discolorization\"\n",
        "    }\n",
        "\n",
        "    predicted_class = predictions[0]  # Assuming predictions is a list with class probabilities\n",
        "\n",
        "    print(f\"Predicted Class: {class_labels[predicted_class]}\")\n"
      ],
      "metadata": {
        "id": "ExSwI_HSfwZy"
      },
      "execution_count": null,
      "outputs": []
    }
  ]
}